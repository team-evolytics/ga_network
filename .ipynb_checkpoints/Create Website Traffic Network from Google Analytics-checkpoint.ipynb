{
 "cells": [
  {
   "cell_type": "markdown",
   "id": "044c5af2",
   "metadata": {},
   "source": [
    "# Network Analysis \n",
    "\n",
    "Network analysis is an application of graph theory that focuses on the relationship between entities (e.g., individuals, organizations, webpages, etc.).  Analyzed entities within a network are referred to as nodes (or sometimes vertices) while the relationships between the enitities are called edges or links.   I will likely use these terms interchangeably throughout this notebook. \n",
    "\n",
    "Recently I had a client tell me that they wanted insight on how consumers are using their website.  This set me thinking - while there are many tools to examine individual page performance or user behavior, few offer the ability to pull back and wholistically examine how site pages interrelate to one another. When you represent a website as a network is becomes easy to see which pages are driving traffic to a target page (e.g., a cart or checkout page), which pages people are leaving the site from, how people are navigating the site, and even provide clues as to which products people shop for together.  Furthermore, when visualized as a graph, it is possible to do this quickly and on the fly with clients.   \n",
    "\n",
    "This notebook provides code and instructions for how to use Google Analytics data to generate the files for network visualizations in Gephi, a network visualization tool.   "
   ]
  },
  {
   "cell_type": "markdown",
   "id": "563b9f6b",
   "metadata": {},
   "source": [
    "#### Authenticating and Connecting to the Google Analytics API Endpoint \n",
    "\n",
    "We must set up our connection to the Google Analytics API endpoint.  First, you must set up a new project and service account prior in order to generate a private key. [The documentation describing how to do so is here](https://developers.google.com/analytics/devguides/reporting/core/v4/quickstart/service-py).  After you create a service account and project you will download a json file with your API key.  Save this to your working directory as \"client_secret.json\".  \n",
    "\n",
    "Second, there will be an email account associated with the service account.   You will need to have someone with admin access provide read access to this email address at the *account* (not view) level in GA. \n",
    "\n",
    "Finally, ... install librarys... you can now run the cell below to get started. "
   ]
  },
  {
   "cell_type": "code",
   "execution_count": null,
   "id": "e2b1ed8e",
   "metadata": {},
   "outputs": [],
   "source": [
    "import csv\n",
    "import datetime\n",
    "import httplib2\n",
    "import json \n",
    "import requests \n",
    "import pandas as pd\n",
    "import pprint\n",
    "\n",
    "from oauth2client.service_account import ServiceAccountCredentials\n",
    "from googleapiclient.discovery import build "
   ]
  },
  {
   "cell_type": "code",
   "execution_count": null,
   "id": "b52687c9",
   "metadata": {},
   "outputs": [],
   "source": [
    "#Create service credentials\n",
    "#Rename your JSON key to client_secrets.json and save it to your working folder\n",
    "credentials = ServiceAccountCredentials.from_json_keyfile_name('client_secrets.json', ['https://www.googleapis.com/auth/analytics.readonly'])\n",
    "  \n",
    "#Create a service object\n",
    "http = credentials.authorize(httplib2.Http())\n",
    "service = build('analytics', 'v4', http=http, discoveryServiceUrl=('https://analyticsreporting.googleapis.com/$discovery/rest'))\n"
   ]
  },
  {
   "cell_type": "markdown",
   "id": "ad3854e7",
   "metadata": {},
   "source": [
    "## Configuration"
   ]
  },
  {
   "cell_type": "markdown",
   "id": "a1ce0238",
   "metadata": {},
   "source": [
    "#### Defining Parameters \n",
    "\n",
    "The parameters defined below are used for making the Google Analytics API calls.  You can find [documentation for configuring these here](https://developers.google.com/analytics/devguides/reporting/core/v4/reference#ids).  You may find the [Google Analytics query explorer](https://ga-dev-tools.web.app/query-explorer/) helpful when tailoring parameters. \n",
    "\n",
    "Note that the edge dimensions should always be pagePath and preveiousPagePath and the edge metrics should be either be uniquePageviews or Pageviews.  This is neccessary to create the structure of the network - the pages dimensions represent the two entities being associated (i.e., two webpages) and the pageview metric provides the weight, or the strength of that association.  In fact, the simplest representation of a networks is an edge list which can be defined with three columns: \n",
    "\n",
    "    Source -> Target, Weight. \n",
    "\n",
    "The node paramaters are optional but are what enable us to really visually explore the network.  These are the attributes of a webpage in which we might be interested.  If you create a node table, you must always include a pagepath dimensions so that we can associate node attributes with the pages in the edge list.  Additionally, let me issue a word of warning - this script will clean up URL parameters and combine values from the same pages.  As a result, you should not include rates or percentages as you cannot average or sum percentages accurately.  If desired, we should calculate those from the raw data after we have combined different listings of the same page. For example, you can ask for bounces but not the bounce rate.  If you want the bounce rate, you should combine pages after the URL has been standardized and divide bounces by the number of sessions that hit that page.  \n"
   ]
  },
  {
   "cell_type": "code",
   "execution_count": null,
   "id": "430a22a3",
   "metadata": {},
   "outputs": [],
   "source": [
    "# UNIVERSAL PARAMETERS \n",
    "WEBSITE_NAME = \"bushnell.com\"\n",
    "VIEWID = 'ga:219121486'\n",
    "START_DATE = '7daysAgo'\n",
    "END_DATE = 'today'\n",
    "PAGE_SIZE = 10000 \n",
    "PAGE_TOKEN = \"0\" \n",
    "\n",
    "\n",
    "#EDGE PARAMETERS \n",
    "EDGE_METRICS = [\n",
    "               {'expression': 'ga:uniquePageviews'}\n",
    "               ]\n",
    "\n",
    "EDGE_DIMENSIONS = [\n",
    "                  {\"name\": \"ga:pagePath\"},\n",
    "                  {\"name\": \"ga:previousPagePath\"}\n",
    "                  ]\n",
    "\n",
    "EDGE_FILTEREXPRESSIONS = \"ga:hostname==www.bushnell.com;ga:previousPagePath!=(entrance)\"\n",
    "\n",
    "EDGE_ORDERBYS= [\n",
    "               {\"fieldName\": \"ga:uniquePageviews\", \"sortOrder\": \"DESCENDING\"}\n",
    "               ] \n",
    "\n",
    "\n",
    "# NODE PARAMETERS \n",
    "NODE_METRICS = [\n",
    "                {'expression': 'ga:uniquePageviews'},\n",
    "                {'expression': 'ga:bounces'},\n",
    "                {'expression': 'ga:pageValue'},\n",
    "                {'expression': 'ga:entrances'},\n",
    "                {'expression': 'ga:exits'},\n",
    "               ]\n",
    "\n",
    "NODE_DIMENSIONS = [\n",
    "                 {\"name\": \"ga:pagePath\"}\n",
    "                 ]\n",
    "\n",
    "NODE_FILTEREXPRESSIONS = \"ga:hostname==www.bushnell.com\"\n",
    "\n",
    "NODE_ORDERBYS= [\n",
    "               {\"fieldName\": \"ga:uniquePageviews\", \"sortOrder\": \"DESCENDING\"}\n",
    "               ] "
   ]
  },
  {
   "cell_type": "markdown",
   "id": "6a1ac861",
   "metadata": {},
   "source": [
    "## Define Functions "
   ]
  },
  {
   "cell_type": "markdown",
   "id": "68d1d9d5",
   "metadata": {},
   "source": [
    "Here we have defined two functions.  The first conducts the API call while the second acts as a helper function parsing the API response.  These are general functions and should not need to be altered. "
   ]
  },
  {
   "cell_type": "code",
   "execution_count": null,
   "id": "0b94461f",
   "metadata": {},
   "outputs": [],
   "source": [
    "def call_api(viewID, metrics, dimensions, filters=None, \n",
    "             startDate='30daysAgo', endDate='today', pageSize=10000,\n",
    "            pageToken=\"0\", orderBys=None): \n",
    "    ''' Constructs and posts Google Analytics API call. \n",
    "    \n",
    "    Calls the google analytics api - mainly used to ease looping over it and \n",
    "    to enable default values other than those specified by the API.  \n",
    "    Please see the following link for information regarding how to format\n",
    "    arguments:   \n",
    "    https://developers.google.com/analytics/devguides/reporting/core/v3/reference#ids\n",
    "  \n",
    "    Args:\n",
    "        viewID (str): GA view ID.  \n",
    "        \n",
    "        metrics (lst of dict): List of key, value pairs specifying  metrics to \n",
    "                               return (e.g., [{'expression': 'ga:uniquePageviews'}]). \n",
    "        \n",
    "        dimensions(lst of dict): List of key, value pairs specifying  metrics \n",
    "                                to return (e.g., [{\"name\": \"ga:pagePath\"}]). \n",
    "        \n",
    "        filters (str): String specifying filters to applied. Strings should \n",
    "                       use operator characters NOT the url encoded form of \n",
    "                       operators. \n",
    "        \n",
    "        startDate (str): Start date in YYYY-MM-DD string format.   \n",
    "        \n",
    "        endDate (str): Start date in YYYY-MM-DD string format. \n",
    "        \n",
    "        pageSize (Int): Number of records to return per page.  0 to 10,000.  \n",
    "        \n",
    "        pageToken (str): Next record on the following page if number of \n",
    "                         records exceed page size. \n",
    "        \n",
    "        orderBys (str): Specify the metric(s)/dimesion(s) by which values \n",
    "                        should be orderd and if ascending or descending. \n",
    "        \n",
    "    Returns: \n",
    "        response (dict): API response object containing the requested data. \n",
    "    '''\n",
    "    d = []\n",
    "    \n",
    "    while pageToken: \n",
    "        response = service.reports().batchGet(\n",
    "            body={\n",
    "                'reportRequests': [\n",
    "                    {\n",
    "                        'viewId': viewID, #Add View ID from GA\n",
    "                        'dateRanges': [\n",
    "                                      {'startDate': startDate,\n",
    "                                       'endDate': endDate}\n",
    "                                      ],\n",
    "                        'metrics': metrics, \n",
    "                        'dimensions': dimensions, \n",
    "                        \"filtersExpression\": filters, \n",
    "                        'orderBys': orderBys, \n",
    "                        'pageSize': pageSize,\n",
    "                        'pageToken': pageToken \n",
    "                    }]\n",
    "            }\n",
    "        ).execute()\n",
    "\n",
    "        if 'nextPageToken' in response['reports'][0]:\n",
    "            \n",
    "            pageToken = response['reports'][0]['nextPageToken']\n",
    "            \n",
    "            if len(d)>0: \n",
    "                d = d+parse_data(response)[1:] \n",
    "            else: \n",
    "                d = parse_data(response)\n",
    "        \n",
    "        elif len(d) > 0: \n",
    "            d = d+parse_data(response)[1:] \n",
    "            break\n",
    "        \n",
    "        else: \n",
    "            d = parse_data(response)\n",
    "            break\n",
    "    \n",
    "    print(\"{} rows of data returned.\".format(len(d)))\n",
    "    \n",
    "    return d, response"
   ]
  },
  {
   "cell_type": "code",
   "execution_count": null,
   "id": "b2f2fd9c",
   "metadata": {},
   "outputs": [],
   "source": [
    "def parse_data(ga_response):\n",
    "    ''' Parses Google Analytics API response to extract metrics & dimensions.\n",
    "    \n",
    "    Takes a google analytics API response dictionary and returns a list of \n",
    "    list of dimensions and metrics amenable to conversion to dataframe. \n",
    "    \n",
    "    Args: \n",
    "        ga_response(dict): Response object from the google api. \n",
    "    \n",
    "    Returns: \n",
    "        data (lst of lst): List with each child list representing a single row \n",
    "                           of metrics and dimensions.  \n",
    "    '''\n",
    "    \n",
    "    data = []\n",
    "    \n",
    "    for report in ga_response.get('reports', []):\n",
    "        columnHeader = report.get('columnHeader', {})\n",
    "        dimensionHeaders = [\n",
    "            i.split(\":\")[1]\n",
    "            for i in columnHeader.get('dimensions', [])\n",
    "            ]\n",
    "        metricHeaders = [\n",
    "            i['name'].split(\":\")[1]\n",
    "            for i in columnHeader.get('metricHeader', {}).get('metricHeaderEntries', [])\n",
    "            ] \n",
    "        data.append(dimensionHeaders+metricHeaders)\n",
    "\n",
    "        rows = report.get('data', {}).get('rows', [])\n",
    "        for row in rows:\n",
    "\n",
    "            dimensions = row.get('dimensions', [])\n",
    "            m = row.get('metrics')\n",
    "            metrics = m[0]['values']\n",
    "            data.append(dimensions + metrics)\n",
    "    \n",
    "    return data\n"
   ]
  },
  {
   "cell_type": "markdown",
   "id": "2c571651",
   "metadata": {},
   "source": [
    "## Create Edges List "
   ]
  },
  {
   "cell_type": "markdown",
   "id": "2813f6d3",
   "metadata": {},
   "source": [
    "Next, we're making the API call for the edge list.  Our defined functions will return a list of lists with each list representing a row of data.   We then convert this to a pandas dataframe and clean up the data by dropping the url parameters and combining duplicate URLs. Finally, we format this for import into Gephi with the required column names of source, target, and weight.   "
   ]
  },
  {
   "cell_type": "code",
   "execution_count": null,
   "id": "e8929fdf",
   "metadata": {},
   "outputs": [],
   "source": [
    "# Get edges  \n",
    "d, _ = call_api(VIEWID, EDGE_METRICS, EDGE_DIMENSIONS, \n",
    "                filters=EDGE_FILTEREXPRESSIONS, startDate=START_DATE,\n",
    "                endDate=END_DATE, pageSize=PAGE_SIZE, pageToken=PAGE_TOKEN,\n",
    "                orderBys=EDGE_ORDERBYS)"
   ]
  },
  {
   "cell_type": "code",
   "execution_count": null,
   "id": "9ca08901",
   "metadata": {},
   "outputs": [],
   "source": [
    "# Create the pandas DataFrame\n",
    "df_edges = pd.DataFrame(d[1:], columns=d[0])\n",
    "\n",
    "#Clean up urls by dropping url parameters\n",
    "df_edges['pagePath'] = df_edges ['pagePath'].apply(lambda x: x.split('?')[0])\n",
    "df_edges ['previousPagePath'] = df_edges ['previousPagePath'].apply(lambda x: x.split('?')[0])\n",
    "\n",
    "# After droppping url parameters combining pages w/ same pagePath and\n",
    "# previousPagePath and summing uniquePageViews\n",
    "df_edges = df_edges.astype({'uniquePageviews': \"int32\"})\n",
    "df_edges = df_edges.groupby(['pagePath', 'previousPagePath']).agg({'uniquePageviews': 'sum'}).reset_index()\n",
    "\n",
    "#Removing self-references \n",
    "df_edges = df_edges[df_edges ['pagePath'] != df_edges['previousPagePath']]\n",
    "\n",
    "# Reordering and renaming columns to conform to Gephi \n",
    "new_cols = [\n",
    "            'previousPagePath', \n",
    "            'pagePath', \n",
    "            'uniquePageviews'\n",
    "            ]\n",
    "\n",
    "df_edges = df_edges [new_cols]\n",
    "\n",
    "df_edges.rename(columns={'uniquePageviews': 'Weight',\n",
    "                         'previousPagePath': 'Source',\n",
    "                         'pagePath': 'Target'}, inplace=True)\n",
    "\n",
    "# Dump to csv\n",
    "fn = \"{}_edge_list_{}-{}.csv\".format(WEBSITE_NAME, START_DATE, END_DATE)\n",
    "df_edges.to_csv(fn, index=False)"
   ]
  },
  {
   "cell_type": "markdown",
   "id": "4dce6b5e",
   "metadata": {},
   "source": [
    "## Create Nodes Table"
   ]
  },
  {
   "cell_type": "markdown",
   "id": "ab13416c",
   "metadata": {},
   "source": [
    "Finally, we create our nodes table. If you've modified any parameters used for the API call above, you may need to  modify the logic below used to clean up the data.  Additionally, if you want to define any metrics as rates (e.g., conversion, exit, or bounce rate) you should calculate them at this point.    "
   ]
  },
  {
   "cell_type": "code",
   "execution_count": null,
   "id": "85ada62b",
   "metadata": {},
   "outputs": [],
   "source": [
    "d, _ = call_api(VIEWID, NODE_METRICS, NODE_DIMENSIONS, \n",
    "                filters=NODE_FILTEREXPRESSIONS, startDate=START_DATE,\n",
    "                endDate=END_DATE, pageSize=PAGE_SIZE, pageToken=PAGE_TOKEN,\n",
    "                orderBys=NODE_ORDERBYS)"
   ]
  },
  {
   "cell_type": "code",
   "execution_count": null,
   "id": "696a7789",
   "metadata": {},
   "outputs": [],
   "source": [
    "# Create the pandas DataFrame\n",
    "df_nodes = pd.DataFrame(d[1:], columns=d[0])\n",
    "\n",
    "\n",
    "#Clean up urls by dropping URL parameters\n",
    "df_nodes['pagePath'] = df_nodes['pagePath'].apply(lambda x: x.split('?')[0])\n",
    "\n",
    "\n",
    "# Combining Pages w/ same pagePath and previousPagePath and summing metrics\n",
    "df_nodes = df_nodes.astype({'uniquePageviews': \"int32\", \n",
    "                            'bounces': \"int32\",\n",
    "                            'pageValue': \"float64\",\n",
    "                            'entrances' : \"int32\",\n",
    "                            'exits': \"int32\"})\n",
    "\n",
    "df_nodes = df_nodes.groupby(['pagePath']).agg({'uniquePageviews': 'sum',\n",
    "                                               'bounces': \"sum\",\n",
    "                                               'entrances' : \"sum\",\n",
    "                                               'exits': \"sum\"}).reset_index()\n",
    "\n",
    "# Sorting and relabeling nodes to conform to Gephi\n",
    "\n",
    "df_nodes = df_nodes.sort_values('uniquePageviews', ascending=False)\n",
    "\n",
    "df_nodes.rename(columns={'pagePath': 'Id'}, \n",
    "                inplace=True\n",
    "                )\n",
    "\n",
    "# Dump to csv\n",
    "fn = \"{}_nodes_table_{}-{}.csv\".format(WEBSITE_NAME, START_DATE, END_DATE)\n",
    "df_nodes.to_csv(fn, index=False)"
   ]
  },
  {
   "cell_type": "markdown",
   "id": "8fe05adb",
   "metadata": {},
   "source": [
    "## Scatchpad  - Working Notes and Code go Below Here"
   ]
  }
 ],
 "metadata": {
  "kernelspec": {
   "display_name": "Python 3",
   "language": "python",
   "name": "python3"
  },
  "language_info": {
   "codemirror_mode": {
    "name": "ipython",
    "version": 3
   },
   "file_extension": ".py",
   "mimetype": "text/x-python",
   "name": "python",
   "nbconvert_exporter": "python",
   "pygments_lexer": "ipython3",
   "version": "3.8.8"
  },
  "varInspector": {
   "cols": {
    "lenName": 16,
    "lenType": 16,
    "lenVar": 40
   },
   "kernels_config": {
    "python": {
     "delete_cmd_postfix": "",
     "delete_cmd_prefix": "del ",
     "library": "var_list.py",
     "varRefreshCmd": "print(var_dic_list())"
    },
    "r": {
     "delete_cmd_postfix": ") ",
     "delete_cmd_prefix": "rm(",
     "library": "var_list.r",
     "varRefreshCmd": "cat(var_dic_list()) "
    }
   },
   "types_to_exclude": [
    "module",
    "function",
    "builtin_function_or_method",
    "instance",
    "_Feature"
   ],
   "window_display": false
  }
 },
 "nbformat": 4,
 "nbformat_minor": 5
}
